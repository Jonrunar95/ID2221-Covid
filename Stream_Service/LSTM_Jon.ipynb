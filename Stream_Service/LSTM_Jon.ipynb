{
 "cells": [
  {
   "cell_type": "code",
   "execution_count": 1,
   "metadata": {},
   "outputs": [],
   "source": [
    "import tensorflow as tf\n",
    "import numpy as np\n",
    "import matplotlib.pyplot as plt\n",
    "from sklearn.model_selection import train_test_split\n",
    "#import datetime\n",
    "#from cassandra.cluster import Cluster\n",
    "import CovidAPI "
   ]
  },
  {
   "cell_type": "code",
   "execution_count": 30,
   "metadata": {},
   "outputs": [
    {
     "name": "stdout",
     "output_type": "stream",
     "text": [
      "195\n"
     ]
    }
   ],
   "source": [
    "api = CovidAPI.API()\n",
    "data = api.getWorld()\n",
    "\n",
    "print(len(data))"
   ]
  },
  {
   "cell_type": "code",
   "execution_count": 38,
   "metadata": {},
   "outputs": [],
   "source": [
    "ConfirmedCases = np.zeros((len(data)))\n",
    "\n",
    "for i in range(len(data)):\n",
    "    ConfirmedCases[i] = data[i][\"TotalConfirmed\"]\n",
    "\n",
    "ConfirmedCases = np.sort(ConfirmedCases)\n",
    "\n",
    "\n",
    "Train = ConfirmedCases[:-14]\n",
    "Val = ConfirmedCases[-28:-7]\n",
    "Test = ConfirmedCases[-21:]\n",
    "\n",
    "\n",
    "x_train = np.zeros((167, 1, 14))\n",
    "y_train = np.zeros((167, 1))\n",
    "x_val = np.zeros((7, 1, 14))\n",
    "y_val = np.zeros((7, 1))\n",
    "x_test = np.zeros((7, 1, 14))\n",
    "y_test = np.zeros((7, 1))\n",
    "\n",
    "\n",
    "for i in range(Train.shape[0] - 14):\n",
    "    x_train[i] = Train[i:i+14]\n",
    "    y_train[i] = Train[i+14]\n",
    "\n",
    "\n",
    "for i in range(Val.shape[0] - 14):\n",
    "    x_val[i] = Val[i:i+14]\n",
    "    y_val[i] = Val[i+14]\n",
    "\n",
    "\n",
    "for i in range(Test.shape[0] - 14):\n",
    "    x_test[i] = Test[i:i+14]\n",
    "    y_test[i] = Test[i+14]\n",
    "\n"
   ]
  },
  {
   "cell_type": "code",
   "execution_count": 126,
   "metadata": {},
   "outputs": [
    {
     "name": "stdout",
     "output_type": "stream",
     "text": [
      "36124\n",
      "(36124, 1, 14) (36124, 1, 1)\n",
      "(27093, 1, 14) (9031, 1, 14) (27093, 1, 1) (9031, 1, 1)\n"
     ]
    }
   ],
   "source": [
    "'''\n",
    "! ls\n",
    "data = np.load(\"CountryCases.npy\", allow_pickle=True, encoding='bytes')\n",
    "\n",
    "X = np.zeros((36124, 1, 14))\n",
    "Y = np.zeros((36124, 1, 1))\n",
    "\n",
    "index = 0\n",
    "\n",
    "for i, country in enumerate(data):\n",
    "    for j in range(len(country) - 14):\n",
    "        X[index] = country[j:j+14]\n",
    "        Y[index] = country[j+14]\n",
    "        index +=1\n",
    "        \n",
    "print(index)\n",
    "print(X.shape, Y.shape)\n",
    "\n",
    "x_train, x_test, y_train, y_test = train_test_split(X, Y, test_size = 0.25)\n",
    "\n",
    "print(x_train.shape, x_test.shape, y_train.shape, y_test.shape)\n",
    "'''"
   ]
  },
  {
   "cell_type": "code",
   "execution_count": 70,
   "metadata": {},
   "outputs": [],
   "source": [
    "from tensorflow.keras.layers import Dense, Dropout, Input, LSTM, GaussianNoise, ReLU\n",
    "from tensorflow.keras.models import Model, Sequential\n",
    "from tensorflow.keras.metrics import RootMeanSquaredError\n",
    "from keras.losses import mean_squared_error\n",
    "import keras\n",
    "import tensorflow.keras.backend as K\n",
    "\n",
    "def root_mean_squared_error(y_true, y_pred):\n",
    "    return K.sqrt(mean_squared_error(y_true, y_pred))"
   ]
  },
  {
   "cell_type": "code",
   "execution_count": 73,
   "metadata": {},
   "outputs": [
    {
     "ename": "AttributeError",
     "evalue": "'CustomCallback' object has no attribute '_implements_train_batch_hooks'",
     "output_type": "error",
     "traceback": [
      "\u001b[0;31m---------------------------------------------------------------------------\u001b[0m",
      "\u001b[0;31mAttributeError\u001b[0m                            Traceback (most recent call last)",
      "\u001b[0;32m<ipython-input-73-b002ed3a2c49>\u001b[0m in \u001b[0;36m<module>\u001b[0;34m\u001b[0m\n\u001b[1;32m     21\u001b[0m     \u001b[0mvalidation_data\u001b[0m \u001b[0;34m=\u001b[0m \u001b[0;34m(\u001b[0m\u001b[0mx_val\u001b[0m\u001b[0;34m,\u001b[0m \u001b[0my_val\u001b[0m\u001b[0;34m)\u001b[0m\u001b[0;34m,\u001b[0m\u001b[0;34m\u001b[0m\u001b[0;34m\u001b[0m\u001b[0m\n\u001b[1;32m     22\u001b[0m     \u001b[0mverbose\u001b[0m \u001b[0;34m=\u001b[0m \u001b[0;36m1\u001b[0m\u001b[0;34m,\u001b[0m \u001b[0mepochs\u001b[0m \u001b[0;34m=\u001b[0m \u001b[0mNUM_EPOCHS\u001b[0m\u001b[0;34m,\u001b[0m\u001b[0;34m\u001b[0m\u001b[0;34m\u001b[0m\u001b[0m\n\u001b[0;32m---> 23\u001b[0;31m     \u001b[0mcallbacks\u001b[0m\u001b[0;34m=\u001b[0m\u001b[0mCustomCallback\u001b[0m\u001b[0;34m(\u001b[0m\u001b[0;34m)\u001b[0m\u001b[0;34m\u001b[0m\u001b[0;34m\u001b[0m\u001b[0m\n\u001b[0m\u001b[1;32m     24\u001b[0m )\n\u001b[1;32m     25\u001b[0m \u001b[0;34m\u001b[0m\u001b[0m\n",
      "\u001b[0;32m~/opt/anaconda3/lib/python3.7/site-packages/tensorflow/python/keras/engine/training.py\u001b[0m in \u001b[0;36m_method_wrapper\u001b[0;34m(self, *args, **kwargs)\u001b[0m\n\u001b[1;32m     64\u001b[0m   \u001b[0;32mdef\u001b[0m \u001b[0m_method_wrapper\u001b[0m\u001b[0;34m(\u001b[0m\u001b[0mself\u001b[0m\u001b[0;34m,\u001b[0m \u001b[0;34m*\u001b[0m\u001b[0margs\u001b[0m\u001b[0;34m,\u001b[0m \u001b[0;34m**\u001b[0m\u001b[0mkwargs\u001b[0m\u001b[0;34m)\u001b[0m\u001b[0;34m:\u001b[0m\u001b[0;34m\u001b[0m\u001b[0;34m\u001b[0m\u001b[0m\n\u001b[1;32m     65\u001b[0m     \u001b[0;32mif\u001b[0m \u001b[0;32mnot\u001b[0m \u001b[0mself\u001b[0m\u001b[0;34m.\u001b[0m\u001b[0m_in_multi_worker_mode\u001b[0m\u001b[0;34m(\u001b[0m\u001b[0;34m)\u001b[0m\u001b[0;34m:\u001b[0m  \u001b[0;31m# pylint: disable=protected-access\u001b[0m\u001b[0;34m\u001b[0m\u001b[0;34m\u001b[0m\u001b[0m\n\u001b[0;32m---> 66\u001b[0;31m       \u001b[0;32mreturn\u001b[0m \u001b[0mmethod\u001b[0m\u001b[0;34m(\u001b[0m\u001b[0mself\u001b[0m\u001b[0;34m,\u001b[0m \u001b[0;34m*\u001b[0m\u001b[0margs\u001b[0m\u001b[0;34m,\u001b[0m \u001b[0;34m**\u001b[0m\u001b[0mkwargs\u001b[0m\u001b[0;34m)\u001b[0m\u001b[0;34m\u001b[0m\u001b[0;34m\u001b[0m\u001b[0m\n\u001b[0m\u001b[1;32m     67\u001b[0m \u001b[0;34m\u001b[0m\u001b[0m\n\u001b[1;32m     68\u001b[0m     \u001b[0;31m# Running inside `run_distribute_coordinator` already.\u001b[0m\u001b[0;34m\u001b[0m\u001b[0;34m\u001b[0m\u001b[0;34m\u001b[0m\u001b[0m\n",
      "\u001b[0;32m~/opt/anaconda3/lib/python3.7/site-packages/tensorflow/python/keras/engine/training.py\u001b[0m in \u001b[0;36mfit\u001b[0;34m(self, x, y, batch_size, epochs, verbose, callbacks, validation_split, validation_data, shuffle, class_weight, sample_weight, initial_epoch, steps_per_epoch, validation_steps, validation_batch_size, validation_freq, max_queue_size, workers, use_multiprocessing)\u001b[0m\n\u001b[1;32m    824\u001b[0m             \u001b[0mverbose\u001b[0m\u001b[0;34m=\u001b[0m\u001b[0mverbose\u001b[0m\u001b[0;34m,\u001b[0m\u001b[0;34m\u001b[0m\u001b[0;34m\u001b[0m\u001b[0m\n\u001b[1;32m    825\u001b[0m             \u001b[0mepochs\u001b[0m\u001b[0;34m=\u001b[0m\u001b[0mepochs\u001b[0m\u001b[0;34m,\u001b[0m\u001b[0;34m\u001b[0m\u001b[0;34m\u001b[0m\u001b[0m\n\u001b[0;32m--> 826\u001b[0;31m             steps=data_handler.inferred_steps)\n\u001b[0m\u001b[1;32m    827\u001b[0m \u001b[0;34m\u001b[0m\u001b[0m\n\u001b[1;32m    828\u001b[0m       \u001b[0mself\u001b[0m\u001b[0;34m.\u001b[0m\u001b[0mstop_training\u001b[0m \u001b[0;34m=\u001b[0m \u001b[0;32mFalse\u001b[0m\u001b[0;34m\u001b[0m\u001b[0;34m\u001b[0m\u001b[0m\n",
      "\u001b[0;32m~/opt/anaconda3/lib/python3.7/site-packages/tensorflow/python/keras/callbacks.py\u001b[0m in \u001b[0;36m__init__\u001b[0;34m(self, callbacks, add_history, add_progbar, model, **params)\u001b[0m\n\u001b[1;32m    229\u001b[0m     \u001b[0;31m# pylint: disable=protected-access\u001b[0m\u001b[0;34m\u001b[0m\u001b[0;34m\u001b[0m\u001b[0;34m\u001b[0m\u001b[0m\n\u001b[1;32m    230\u001b[0m     self._should_call_train_batch_hooks = any(\n\u001b[0;32m--> 231\u001b[0;31m         cb._implements_train_batch_hooks() for cb in self.callbacks)\n\u001b[0m\u001b[1;32m    232\u001b[0m     self._should_call_test_batch_hooks = any(\n\u001b[1;32m    233\u001b[0m         cb._implements_test_batch_hooks() for cb in self.callbacks)\n",
      "\u001b[0;32m~/opt/anaconda3/lib/python3.7/site-packages/tensorflow/python/keras/callbacks.py\u001b[0m in \u001b[0;36m<genexpr>\u001b[0;34m(.0)\u001b[0m\n\u001b[1;32m    229\u001b[0m     \u001b[0;31m# pylint: disable=protected-access\u001b[0m\u001b[0;34m\u001b[0m\u001b[0;34m\u001b[0m\u001b[0;34m\u001b[0m\u001b[0m\n\u001b[1;32m    230\u001b[0m     self._should_call_train_batch_hooks = any(\n\u001b[0;32m--> 231\u001b[0;31m         cb._implements_train_batch_hooks() for cb in self.callbacks)\n\u001b[0m\u001b[1;32m    232\u001b[0m     self._should_call_test_batch_hooks = any(\n\u001b[1;32m    233\u001b[0m         cb._implements_test_batch_hooks() for cb in self.callbacks)\n",
      "\u001b[0;31mAttributeError\u001b[0m: 'CustomCallback' object has no attribute '_implements_train_batch_hooks'"
     ]
    }
   ],
   "source": [
    "class CustomCallback(keras.callbacks.Callback):\n",
    "    def on_epoch_end(self, epoch, logs=None):\n",
    "        \n",
    "        y_ = model.predict(x_test[0])\n",
    "        print(\"End epoch {} of training; got prediction: {}\".format(epoch, y_))\n",
    "\n",
    "model = Sequential()\n",
    "model.add(GaussianNoise(0.01))\n",
    "model.add(LSTM(50, input_shape=(1, 14), return_sequences=True, stateful=True))\n",
    "model.add(LSTM(50, input_shape=(1, 50), return_sequences=True, stateful=True))\n",
    "model.add(LSTM(50, input_shape=(1, 50), return_sequences=True, stateful=False))\n",
    "model.add(Dropout(0.3))\n",
    "model.add(Dense(1))\n",
    "model.add(ReLU())\n",
    "model.compile(loss=root_mean_squared_error, optimizer=tf.keras.optimizers.Adam(learning_rate=0.1))\n",
    "callback = tf.keras.callbacks.EarlyStopping(monitor='val_loss', patience=100, restore_best_weights=True)\n",
    "NUM_EPOCHS = 1000\n",
    "\n",
    "result = model.fit(\n",
    "    x_train, y_train, batch_size = 1,\n",
    "    validation_data = (x_val, y_val),\n",
    "    verbose = 1, epochs = NUM_EPOCHS,\n",
    "    callbacks=CustomCallback()\n",
    ")\n",
    "\n",
    "\n"
   ]
  },
  {
   "cell_type": "code",
   "execution_count": 72,
   "metadata": {},
   "outputs": [
    {
     "name": "stdout",
     "output_type": "stream",
     "text": [
      "INFO:tensorflow:Assets written to: Models/model_1/model_1/assets\n"
     ]
    }
   ],
   "source": [
    "model.save(\"Models/model_1/model_1\")\n",
    "model.save_weights('Models/model_1_weights/model_1_weights')  "
   ]
  },
  {
   "cell_type": "code",
   "execution_count": 62,
   "metadata": {
    "scrolled": true
   },
   "outputs": [
    {
     "name": "stdout",
     "output_type": "stream",
     "text": [
      "[35469779. 35797618. 36150015. 36509307. 36869947. 37173960. 37468956.\n",
      " 37795152. 38123357. 38504630. 38911224. 39322523. 39664028. 39948934.]\n",
      "\n",
      "pred 5497\n",
      "\n",
      "[3.5797618e+07 3.6150015e+07 3.6509307e+07 3.6869947e+07 3.7173960e+07\n",
      " 3.7468956e+07 3.7795152e+07 3.8123357e+07 3.8504630e+07 3.8911224e+07\n",
      " 3.9322523e+07 3.9664028e+07 3.9948934e+07 5.4970000e+03]\n",
      "\n",
      "pred 5497\n",
      "\n",
      "[3.6150015e+07 3.6509307e+07 3.6869947e+07 3.7173960e+07 3.7468956e+07\n",
      " 3.7795152e+07 3.8123357e+07 3.8504630e+07 3.8911224e+07 3.9322523e+07\n",
      " 3.9664028e+07 3.9948934e+07 5.4970000e+03 5.4970000e+03]\n",
      "\n",
      "pred 5497\n",
      "\n",
      "[3.6509307e+07 3.6869947e+07 3.7173960e+07 3.7468956e+07 3.7795152e+07\n",
      " 3.8123357e+07 3.8504630e+07 3.8911224e+07 3.9322523e+07 3.9664028e+07\n",
      " 3.9948934e+07 5.4970000e+03 5.4970000e+03 5.4970000e+03]\n",
      "\n",
      "pred 5497\n",
      "\n",
      "[3.6869947e+07 3.7173960e+07 3.7468956e+07 3.7795152e+07 3.8123357e+07\n",
      " 3.8504630e+07 3.8911224e+07 3.9322523e+07 3.9664028e+07 3.9948934e+07\n",
      " 5.4970000e+03 5.4970000e+03 5.4970000e+03 5.4970000e+03]\n",
      "\n",
      "pred 5497\n",
      "\n",
      "[3.7173960e+07 3.7468956e+07 3.7795152e+07 3.8123357e+07 3.8504630e+07\n",
      " 3.8911224e+07 3.9322523e+07 3.9664028e+07 3.9948934e+07 5.4970000e+03\n",
      " 5.4970000e+03 5.4970000e+03 5.4970000e+03 5.4970000e+03]\n",
      "\n",
      "pred 5497\n",
      "\n",
      "[3.7468956e+07 3.7795152e+07 3.8123357e+07 3.8504630e+07 3.8911224e+07\n",
      " 3.9322523e+07 3.9664028e+07 3.9948934e+07 5.4970000e+03 5.4970000e+03\n",
      " 5.4970000e+03 5.4970000e+03 5.4970000e+03 5.4970000e+03]\n",
      "\n",
      "pred 5497\n",
      "\n"
     ]
    }
   ],
   "source": [
    "x = x_test[0].reshape(1,1,14)\n",
    "y_pred = np.zeros((7))\n",
    "\n",
    "for i in range(7):\n",
    "    print(x[0, 0])\n",
    "    print()\n",
    "    pred = int(model.predict(x)[0, 0])\n",
    "    y_pred[i] = pred\n",
    "    x = np.delete(x, 0, 2)\n",
    "    x = np.insert(x, 13, pred, 2)\n",
    "    print(\"pred\", pred)\n",
    "    print()\n",
    "    "
   ]
  },
  {
   "cell_type": "code",
   "execution_count": 65,
   "metadata": {},
   "outputs": [
    {
     "data": {
      "image/png": "[encoded data removed]",
      "text/plain": [
       "<Figure size 864x576 with 1 Axes>"
      ]
     },
     "metadata": {
      "needs_background": "light"
     },
     "output_type": "display_data"
    },
    {
     "data": {
      "image/png": "[encoded data removed]",
      "text/plain": [
       "<Figure size 864x576 with 1 Axes>"
      ]
     },
     "metadata": {
      "needs_background": "light"
     },
     "output_type": "display_data"
    }
   ],
   "source": [
    "length = len(ConfirmedCases)\n",
    "\n",
    "xAx = np.arange(1, length+1)\n",
    "xAx2 = np.arange(length-6, length+1)\n",
    "plt.figure(figsize=((12, 8)))\n",
    "plt.plot(xAx, ConfirmedCases, color='blue')\n",
    "plt.plot(xAx2, y_pred, color='red')\n",
    "plt.show()\n",
    "\n",
    "plt.figure(figsize=((12, 8)))\n",
    "plt.plot(xAx, ConfirmedCases, color='blue')\n",
    "plt.show()"
   ]
  },
  {
   "cell_type": "code",
   "execution_count": null,
   "metadata": {},
   "outputs": [],
   "source": []
  }
 ],
 "metadata": {
  "kernelspec": {
   "display_name": "Python 3.7.4 64-bit ('base': conda)",
   "language": "python",
   "name": "python37464bitbaseconda68e14873c71e4bb0a670fead7431aec3"
  },
  "language_info": {
   "codemirror_mode": {
    "name": "ipython",
    "version": 3
   },
   "file_extension": ".py",
   "mimetype": "text/x-python",
   "name": "python",
   "nbconvert_exporter": "python",
   "pygments_lexer": "ipython3",
   "version": "3.7.4"
  }
 },
 "nbformat": 4,
 "nbformat_minor": 2
}
